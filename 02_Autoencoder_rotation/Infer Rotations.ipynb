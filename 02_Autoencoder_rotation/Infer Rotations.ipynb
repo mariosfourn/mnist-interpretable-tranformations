{
 "cells": [
  {
   "cell_type": "code",
   "execution_count": 33,
   "metadata": {},
   "outputs": [],
   "source": [
    "from __future__ import print_function\n",
    "import os\n",
    "import sys\n",
    "import time\n",
    "\n",
    "import argparse\n",
    "import numpy as np\n",
    "import torch\n",
    "import torch.nn as nn\n",
    "import torch.nn.functional as F\n",
    "import torch.optim as optim\n",
    "import torchvision\n",
    "\n",
    "%reload_ext autoreload\n",
    "%autoreload 2\n",
    "\n",
    "from matplotlib import pyplot as plt\n",
    "from scipy.ndimage.interpolation import rotate\n",
    "from torchvision import datasets, transforms\n",
    "\n",
    "from model import Angle_Discriminator\n",
    "device='cpu'\n",
    "def rotate_tensor(input,angles,plot=False):\n",
    "    \"\"\"\n",
    "    Args:\n",
    "        input: [N,c,h,w] **numpy** tensor\n",
    "        angles: [N,]    **numpy** tensor\n",
    "    Returns:\n",
    "        rotated output as torch tensor\n",
    "    \"\"\"\n",
    "    outputs = []\n",
    "    for i in range(input.shape[0]):\n",
    "        output = rotate(input[i,...], 180*angles[i]/np.pi, axes=(1,2), reshape=False)\n",
    "        outputs.append(output)\n",
    "    outputs=np.stack(outputs, 0)\n",
    "    if plot:\n",
    "        #Create a grid plot with original and scaled images\n",
    "        N=input.shape[0]\n",
    "        rows=int(np.floor(N**0.5))\n",
    "        cols=N//rows\n",
    "        plt.figure()\n",
    "        for j in range(N):\n",
    "            plt.subplot(rows,cols,j+1)\n",
    "            if input.shape[1]>1:\n",
    "                image=input[j].transpose(1,2,0)\n",
    "            else:\n",
    "                image=input[j,0]\n",
    "\n",
    "            plt.imshow(image, cmap='gray')\n",
    "            plt.grid(False)\n",
    "            plt.axis('off')\n",
    "        #Create new figure with rotated\n",
    "        plt.figure(figsize=(5,5))\n",
    "        for j in range(N):\n",
    "            plt.subplot(rows,cols,j+1)\n",
    "            if input.shape[1]>1:\n",
    "                image=outputs[j].transpose(1,2,0)\n",
    "            else:\n",
    "                image=outputs[j,0]\n",
    "            plt.imshow(image, cmap='gray')\n",
    "            plt.axis('off')\n",
    "            plt.title(r'$\\theta$={:.1f}'.format( angles[j]*180/np.pi), fontsize=6)\n",
    "            plt.grid(False)\n",
    "        plt.tight_layout()      \n",
    "        plt.show()\n",
    "    \n",
    "    return torch.from_numpy(outputs)"
   ]
  },
  {
   "cell_type": "markdown",
   "metadata": {},
   "source": [
    "### Load Model"
   ]
  },
  {
   "cell_type": "code",
   "execution_count": 34,
   "metadata": {},
   "outputs": [],
   "source": [
    "model = Angle_Discriminator(device).to(device)\n",
    "filepath='./model_reg/checkpoint.pt'\n",
    "pretrained_dict = torch.load(filepath)\n",
    "model_dict = model.state_dict()\n",
    "\n",
    "# 1. filter out unnecessary keys\n",
    "pretrained_dict = {k: v for k, v in pretrained_dict.items() if k in model_dict}\n",
    "# 2. overwrite entries in the existing state dict\n",
    "model_dict.update(pretrained_dict) \n",
    "# 3. load the new state dict\n",
    "model.load_state_dict(pretrained_dict)\n",
    "\n",
    "#Load test dataset\n",
    "test_batch_size=12\n",
    "kwargs={}\n",
    "test_loader = torch.utils.data.DataLoader(\n",
    "        datasets.MNIST('../data', train=False, transform=transforms.Compose([\n",
    "                           transforms.ToTensor()\n",
    "                       ])),\n",
    "        batch_size=test_batch_size, shuffle=True, **kwargs)"
   ]
  },
  {
   "cell_type": "markdown",
   "metadata": {},
   "source": [
    "### Define function for inference"
   ]
  },
  {
   "cell_type": "code",
   "execution_count": 43,
   "metadata": {},
   "outputs": [],
   "source": [
    "def get_angle(x,y):\n",
    "    \"\"\"\n",
    "    Return the rotation angle between 2 feature vectors x and y\n",
    "    \n",
    "    Args:\n",
    "    x: [D,1] **numpy** tensor\n",
    "    y: [D,1] **numpy** tensor\n",
    "    \"\"\"\n",
    "    sum=0.0\n",
    "    for i in range(0,x.shape[0]-1,2):\n",
    "        x_i=x[i:i+2]\n",
    "        y_i=y[i:i+2]\n",
    "        dot_prod=np.dot(x_i,y_i)\n",
    "        x_norm=np.linalg.norm(x_i)\n",
    "        y_norm=np.linalg.norm(y_i)\n",
    "        import pdb;pdb.set_trace()\n",
    "        sum+= dot_prod/(x_norm*y_norm)\n",
    "    return sum/(x.shape[0]//2)\n",
    "\n",
    "def test(model,test_loader):\n",
    "    \"\"\"\n",
    "    Passes a rotated image through the bott\n",
    "    \"\"\"\n",
    "    model.eval()\n",
    "    with torch.no_grad():\n",
    "        for data, target in test_loader:\n",
    "            #Get rotated vector\n",
    "            angles = np.linspace(0,np.pi/2,test_loader.batch_size)\n",
    "            target = rotate_tensor(data.numpy(),angles,plot=True)\n",
    "            data=data.to(device)\n",
    "            target=target.to(device)\n",
    "            \n",
    "            #Forward pass for data and targer\n",
    "            angles_estimate=model(data,target)\n",
    "            break\n",
    "        angles_estimate=angles_estimate.cpu()\n",
    "    return (angles*180/np.pi), angles_estimate\n",
    "    \n",
    "#     #Get the rotation angle from the embedding\n",
    "#     angles_estimate=np.zeros_like(angles)\n",
    "#     for i in range(test_loader.batch_size):\n",
    "#         angles_estimate[i]=get_angle(data_fvector[i], target_fvector[i])\n",
    "#     angles_degrees=angles*180/np.pix\n",
    "#     angles_est_degrees=angles_estimate*180/np.pi\n",
    "\n",
    "#     return (angles_degrees,angles_est_degrees)        "
   ]
  },
  {
   "cell_type": "code",
   "execution_count": 44,
   "metadata": {},
   "outputs": [
    {
     "data": {
      "image/png": "[encoded data removed]",
      "text/plain": [
       "<Figure size 432x288 with 12 Axes>"
      ]
     },
     "metadata": {},
     "output_type": "display_data"
    },
    {
     "data": {
      "image/png": "[encoded data removed]",
      "text/plain": [
       "<Figure size 360x360 with 12 Axes>"
      ]
     },
     "metadata": {},
     "output_type": "display_data"
    }
   ],
   "source": [
    "GT,estimate= test(model, test_loader)"
   ]
  },
  {
   "cell_type": "code",
   "execution_count": 45,
   "metadata": {},
   "outputs": [
    {
     "data": {
      "text/plain": [
       "array([ 0.        ,  8.18181818, 16.36363636, 24.54545455, 32.72727273,\n",
       "       40.90909091, 49.09090909, 57.27272727, 65.45454545, 73.63636364,\n",
       "       81.81818182, 90.        ])"
      ]
     },
     "execution_count": 45,
     "metadata": {},
     "output_type": "execute_result"
    }
   ],
   "source": [
    "GT\n"
   ]
  },
  {
   "cell_type": "code",
   "execution_count": 46,
   "metadata": {},
   "outputs": [
    {
     "data": {
      "text/plain": [
       "tensor([[  0.0000],\n",
       "        [ 20.0842],\n",
       "        [ 27.0354],\n",
       "        [ 40.9545],\n",
       "        [ 61.3336],\n",
       "        [ 63.4800],\n",
       "        [ 62.7996],\n",
       "        [ 72.4513],\n",
       "        [ 88.3440],\n",
       "        [ 86.7773],\n",
       "        [ 83.0943],\n",
       "        [ 73.8485]])"
      ]
     },
     "execution_count": 46,
     "metadata": {},
     "output_type": "execute_result"
    }
   ],
   "source": [
    "estimate"
   ]
  },
  {
   "cell_type": "code",
   "execution_count": null,
   "metadata": {},
   "outputs": [],
   "source": []
  }
 ],
 "metadata": {
  "kernelspec": {
   "display_name": "Python 3",
   "language": "python",
   "name": "python3"
  },
  "language_info": {
   "codemirror_mode": {
    "name": "ipython",
    "version": 3
   },
   "file_extension": ".py",
   "mimetype": "text/x-python",
   "name": "python",
   "nbconvert_exporter": "python",
   "pygments_lexer": "ipython3",
   "version": "3.6.4"
  },
  "latex_envs": {
   "LaTeX_envs_menu_present": true,
   "autocomplete": true,
   "bibliofile": "biblio.bib",
   "cite_by": "apalike",
   "current_citInitial": 1,
   "eqLabelWithNumbers": true,
   "eqNumInitial": 1,
   "hotkeys": {
    "equation": "Ctrl-E",
    "itemize": "Ctrl-I"
   },
   "labels_anchors": false,
   "latex_user_defs": false,
   "report_style_numbering": false,
   "user_envs_cfg": false
  },
  "varInspector": {
   "cols": {
    "lenName": 16,
    "lenType": 16,
    "lenVar": 40
   },
   "kernels_config": {
    "python": {
     "delete_cmd_postfix": "",
     "delete_cmd_prefix": "del ",
     "library": "var_list.py",
     "varRefreshCmd": "print(var_dic_list())"
    },
    "r": {
     "delete_cmd_postfix": ") ",
     "delete_cmd_prefix": "rm(",
     "library": "var_list.r",
     "varRefreshCmd": "cat(var_dic_list()) "
    }
   },
   "types_to_exclude": [
    "module",
    "function",
    "builtin_function_or_method",
    "instance",
    "_Feature"
   ],
   "window_display": false
  }
 },
 "nbformat": 4,
 "nbformat_minor": 2
}
