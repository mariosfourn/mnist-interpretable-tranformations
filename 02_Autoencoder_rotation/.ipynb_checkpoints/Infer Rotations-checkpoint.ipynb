{
 "cells": [
  {
   "cell_type": "code",
   "execution_count": 40,
   "metadata": {},
   "outputs": [],
   "source": [
    "from __future__ import print_function\n",
    "import os\n",
    "import sys\n",
    "import time\n",
    "\n",
    "import argparse\n",
    "import numpy as np\n",
    "import torch\n",
    "import torch.nn as nn\n",
    "import torch.nn.functional as F\n",
    "import torch.optim as optim\n",
    "import torchvision\n",
    "\n",
    "%reload_ext autoreload\n",
    "%autoreload 2\n",
    "\n",
    "from matplotlib import pyplot as plt\n",
    "from scipy.ndimage.interpolation import rotate\n",
    "from torchvision import datasets, transforms\n",
    "\n",
    "from model import Encoder\n",
    "\n",
    "def rotate_tensor(input,angles):\n",
    "    \"\"\"\n",
    "    Args:\n",
    "        input: [N,c,h,w] **numpy** tensor\n",
    "        angles: [N,]    **numpy** tensor\n",
    "    Returns:\n",
    "        rotated output as torch tensor\n",
    "    \"\"\"\n",
    "    outputs = []\n",
    "    for i in range(input.shape[0]):\n",
    "        output = rotate(input[i,...], 180*angles[i]/np.pi, axes=(1,2), reshape=False)\n",
    "        outputs.append(output)\n",
    "\n",
    "    outputs=np.stack(outputs, 0)\n",
    "    return torch.from_numpy(outputs)"
   ]
  },
  {
   "cell_type": "markdown",
   "metadata": {},
   "source": [
    "### Load Model"
   ]
  },
  {
   "cell_type": "code",
   "execution_count": 41,
   "metadata": {},
   "outputs": [],
   "source": [
    "model = Encoder(device).to(device)\n",
    "\n",
    "pretrained_dict = torch.load('./model/final_model.pt')\n",
    "model_dict = model.state_dict()\n",
    "\n",
    "# 1. filter out unnecessary keys\n",
    "pretrained_dict = {k: v for k, v in pretrained_dict.items() if k in model_dict}\n",
    "# 2. overwrite entries in the existing state dict\n",
    "model_dict.update(pretrained_dict) \n",
    "# 3. load the new state dict\n",
    "model.load_state_dict(pretrained_dict)\n",
    "\n",
    "#Load test dataset\n",
    "test_batch_size=10\n",
    "kwargs={}\n",
    "test_loader = torch.utils.data.DataLoader(\n",
    "        datasets.MNIST('../data', train=False, transform=transforms.Compose([\n",
    "                           transforms.ToTensor()\n",
    "                       ])),\n",
    "        batch_size=test_batch_size, shuffle=True, **kwargs)"
   ]
  },
  {
   "cell_type": "markdown",
   "metadata": {},
   "source": [
    "### Define function for inference"
   ]
  },
  {
   "cell_type": "code",
   "execution_count": 50,
   "metadata": {},
   "outputs": [],
   "source": [
    "def get_angle(x,y):\n",
    "    \"\"\"\n",
    "    Return the rotation angle between 2 feature vectors x and y\n",
    "    \n",
    "    Args:\n",
    "    x: [D,1] **numpy** tensor\n",
    "    y: [D,1] **numpy** tensor\n",
    "    \"\"\"\n",
    "    sum=0.0\n",
    "    for i in range(0,x.shape[0]-1,2):\n",
    "        x_i=x[i:i+2]\n",
    "        y_i=y[i:i+2]\n",
    "        dot_prod=np.dot(x_i,y_i)\n",
    "        x_norm=np.linalg.norm(x_i)\n",
    "        y_norm=np.linalg.norm(y_i)\n",
    "        import pdb;pdb.set_trace()\n",
    "        sum+= dot_prod/(x_norm*y_norm)\n",
    "    return sum/(x.shape[0]//2)\n",
    "\n",
    "def test(model,test_loader):\n",
    "    \"\"\"\n",
    "    Passes a rotated image through the bott\n",
    "    \"\"\"\n",
    "    model.eval()\n",
    "    with torch.no_grad():\n",
    "        for data, target in test_loader:\n",
    "            #Get rotated vector\n",
    "            angles = np.linspace(0,np.pi,test_loader.batch_size)\n",
    "            target = rotate_tensor(data.numpy(),angles)\n",
    "            data=data.to(device)\n",
    "            target=target.to(device)\n",
    "            \n",
    "            #Forward pass for data and targer\n",
    "            output_data=model(data)\n",
    "            output_target=model(target)\n",
    "            break\n",
    "        data_fvector=output_data.cpu().view(output_data.size(0),-1).numpy()\n",
    "        target_fvector=output_target.cpu().view(output_target.size(0),-1).numpy()\n",
    "    \n",
    "    #Get the rotation angle from the embedding\n",
    "    angles_estimate=np.zeros_like(angles)\n",
    "    for i in range(test_loader.batch_size):\n",
    "        angles_estimate[i]=get_angle(data_fvector[i], target_fvector[i])\n",
    "    angles_degrees=angles*180/np.pix\n",
    "    angles_est_degrees=angles_estimate*180/np.pi\n",
    "    \n",
    "    return (angles_degrees,angles_est_degrees)        "
   ]
  },
  {
   "cell_type": "code",
   "execution_count": 51,
   "metadata": {},
   "outputs": [
    {
     "name": "stdout",
     "output_type": "stream",
     "text": [
      "> <ipython-input-50-ba6097ff144c>(13)get_angle()\n",
      "-> y_i=y[i:i+2]\n",
      "(Pdb) \n",
      "(Pdb) i\n",
      "0\n",
      "(Pdb) x_i=x[i:i+2]\n",
      "(Pdb) x_i\n",
      "array([-2.237564 ,  6.4307585], dtype=float32)\n",
      "(Pdb) y_i=y[i:i+2]\n",
      "(Pdb) x_norm=np.linalg.norm(x_i)\n",
      "(Pdb) x_norm\n",
      "6.808917\n",
      "(Pdb)  y_norm=np.linalg.norm(y_i)\n",
      "(Pdb) y_norm\n",
      "6.808917\n",
      "(Pdb)  y_i=y[i:i+2]\n",
      "(Pdb) y_i\n",
      "array([-2.237564 ,  6.4307585], dtype=float32)\n",
      "(Pdb) data_fvector[i,:100]\n",
      "*** NameError: name 'data_fvector' is not defined\n",
      "(Pdb) x[:100\n",
      "*** SyntaxError: unexpected EOF while parsing\n",
      "(Pdb) x[:100]\n",
      "array([-2.2375641e+00,  6.4307585e+00, -3.5404773e+00,  2.7068512e+00,\n",
      "        1.5434566e+00,  3.1054911e-01, -4.6724256e-02,  6.4132702e-01,\n",
      "       -7.7232432e-01, -1.7617115e+00,  1.7167821e+00, -1.5717342e+00,\n",
      "       -8.3372808e-01, -1.5229864e-02, -1.2782276e+00,  1.3296342e+00,\n",
      "       -7.2018814e-01, -1.5625473e+00, -4.7271032e+00, -1.0891975e+00,\n",
      "       -1.2522618e+00, -5.2165335e-01,  3.4281430e-01, -1.5240453e+00,\n",
      "       -1.7271105e+00,  2.2391546e+00,  1.6906835e-02,  1.4400557e+00,\n",
      "        3.2625539e+00,  3.7303188e-01, -1.0218312e+00,  1.1868736e+00,\n",
      "        1.8181169e+00, -1.2042155e+00, -6.0018539e-01,  4.1775198e+00,\n",
      "        5.8294779e-01, -3.8459709e+00,  4.6396717e-01,  3.1393087e+00,\n",
      "        1.0317487e+00,  8.9760226e-01, -1.9483508e+00,  8.5502669e-02,\n",
      "       -4.8083997e+00, -4.4785622e-01, -1.3874456e-01,  1.5238881e+00,\n",
      "        2.6195533e+00,  1.4838274e+00,  1.2250721e+00,  7.0322490e-01,\n",
      "        2.9639745e+00,  1.6296507e+00, -6.4474925e-02,  1.1802607e+00,\n",
      "        1.0942618e+00,  2.7386397e-01, -1.0796015e+00,  2.6615570e+00,\n",
      "        1.3684620e+00,  2.3325236e+00,  5.5953479e-01, -4.1861144e-01,\n",
      "        6.2304437e-01, -1.7044485e+00, -1.3187891e+00, -2.1741815e+00,\n",
      "       -5.0173980e-01, -5.7639856e+00, -2.6946299e+00,  6.5173644e-01,\n",
      "        5.3085964e-03, -1.2169251e+00,  3.8920026e+00, -1.3024917e-01,\n",
      "        3.8328660e+00,  7.0332026e-01,  3.3206797e+00,  2.6693410e-01,\n",
      "       -1.3952932e+00,  1.4163460e-01,  1.6564014e+00, -1.8498037e+00,\n",
      "        1.1005626e+00, -2.2718239e+00, -7.5308877e-01,  5.1729202e-01,\n",
      "       -7.1289772e-01,  1.3515592e+00, -6.9368070e-01, -3.6112742e+00,\n",
      "        2.6479952e+00, -1.3406537e+00,  6.2463278e-01, -9.9641889e-01,\n",
      "       -8.9649105e-01, -1.0960779e+00,  1.6449553e-01,  1.2884562e+00],\n",
      "      dtype=float32)\n",
      "(Pdb) x[1:10]\n",
      "array([ 6.4307585 , -3.5404773 ,  2.7068512 ,  1.5434566 ,  0.3105491 ,\n",
      "       -0.04672426,  0.641327  , -0.7723243 , -1.7617115 ], dtype=float32)\n",
      "(Pdb) y[:10]\n",
      "array([-2.237564  ,  6.4307585 , -3.5404773 ,  2.7068512 ,  1.5434566 ,\n",
      "        0.3105491 , -0.04672426,  0.641327  , -0.7723243 , -1.7617115 ],\n",
      "      dtype=float32)\n",
      "(Pdb) q\n"
     ]
    },
    {
     "ename": "BdbQuit",
     "evalue": "",
     "output_type": "error",
     "traceback": [
      "\u001b[0;31m---------------------------------------------------------------------------\u001b[0m",
      "\u001b[0;31mBdbQuit\u001b[0m                                   Traceback (most recent call last)",
      "\u001b[0;32m<ipython-input-51-f4d03789c92d>\u001b[0m in \u001b[0;36m<module>\u001b[0;34m()\u001b[0m\n\u001b[0;32m----> 1\u001b[0;31m \u001b[0mGT\u001b[0m\u001b[0;34m,\u001b[0m\u001b[0mestimate\u001b[0m\u001b[0;34m=\u001b[0m \u001b[0mtest\u001b[0m\u001b[0;34m(\u001b[0m\u001b[0mmodel\u001b[0m\u001b[0;34m,\u001b[0m \u001b[0mtest_loader\u001b[0m\u001b[0;34m)\u001b[0m\u001b[0;34m\u001b[0m\u001b[0m\n\u001b[0m",
      "\u001b[0;32m<ipython-input-50-ba6097ff144c>\u001b[0m in \u001b[0;36mtest\u001b[0;34m(model, test_loader)\u001b[0m\n\u001b[1;32m     41\u001b[0m     \u001b[0mangles_estimate\u001b[0m\u001b[0;34m=\u001b[0m\u001b[0mnp\u001b[0m\u001b[0;34m.\u001b[0m\u001b[0mzeros_like\u001b[0m\u001b[0;34m(\u001b[0m\u001b[0mangles\u001b[0m\u001b[0;34m)\u001b[0m\u001b[0;34m\u001b[0m\u001b[0m\n\u001b[1;32m     42\u001b[0m     \u001b[0;32mfor\u001b[0m \u001b[0mi\u001b[0m \u001b[0;32min\u001b[0m \u001b[0mrange\u001b[0m\u001b[0;34m(\u001b[0m\u001b[0mtest_loader\u001b[0m\u001b[0;34m.\u001b[0m\u001b[0mbatch_size\u001b[0m\u001b[0;34m)\u001b[0m\u001b[0;34m:\u001b[0m\u001b[0;34m\u001b[0m\u001b[0m\n\u001b[0;32m---> 43\u001b[0;31m         \u001b[0mangles_estimate\u001b[0m\u001b[0;34m[\u001b[0m\u001b[0mi\u001b[0m\u001b[0;34m]\u001b[0m\u001b[0;34m=\u001b[0m\u001b[0mget_angle\u001b[0m\u001b[0;34m(\u001b[0m\u001b[0mdata_fvector\u001b[0m\u001b[0;34m[\u001b[0m\u001b[0mi\u001b[0m\u001b[0;34m]\u001b[0m\u001b[0;34m,\u001b[0m \u001b[0mtarget_fvector\u001b[0m\u001b[0;34m[\u001b[0m\u001b[0mi\u001b[0m\u001b[0;34m]\u001b[0m\u001b[0;34m)\u001b[0m\u001b[0;34m\u001b[0m\u001b[0m\n\u001b[0m\u001b[1;32m     44\u001b[0m     \u001b[0mangles_degrees\u001b[0m\u001b[0;34m=\u001b[0m\u001b[0mangles\u001b[0m\u001b[0;34m*\u001b[0m\u001b[0;36m180\u001b[0m\u001b[0;34m/\u001b[0m\u001b[0mnp\u001b[0m\u001b[0;34m.\u001b[0m\u001b[0mpi\u001b[0m\u001b[0;34m\u001b[0m\u001b[0m\n\u001b[1;32m     45\u001b[0m     \u001b[0mangles_est_degrees\u001b[0m\u001b[0;34m=\u001b[0m\u001b[0mangles_estimate\u001b[0m\u001b[0;34m*\u001b[0m\u001b[0;36m180\u001b[0m\u001b[0;34m/\u001b[0m\u001b[0mnp\u001b[0m\u001b[0;34m.\u001b[0m\u001b[0mpi\u001b[0m\u001b[0;34m\u001b[0m\u001b[0m\n",
      "\u001b[0;32m<ipython-input-50-ba6097ff144c>\u001b[0m in \u001b[0;36mget_angle\u001b[0;34m(x, y)\u001b[0m\n\u001b[1;32m     11\u001b[0m         \u001b[0mx_i\u001b[0m\u001b[0;34m=\u001b[0m\u001b[0mx\u001b[0m\u001b[0;34m[\u001b[0m\u001b[0mi\u001b[0m\u001b[0;34m:\u001b[0m\u001b[0mi\u001b[0m\u001b[0;34m+\u001b[0m\u001b[0;36m2\u001b[0m\u001b[0;34m]\u001b[0m\u001b[0;34m\u001b[0m\u001b[0m\n\u001b[1;32m     12\u001b[0m         \u001b[0;32mimport\u001b[0m \u001b[0mpdb\u001b[0m\u001b[0;34m;\u001b[0m \u001b[0mpdb\u001b[0m\u001b[0;34m.\u001b[0m\u001b[0mset_trace\u001b[0m\u001b[0;34m(\u001b[0m\u001b[0;34m)\u001b[0m\u001b[0;34m\u001b[0m\u001b[0m\n\u001b[0;32m---> 13\u001b[0;31m         \u001b[0my_i\u001b[0m\u001b[0;34m=\u001b[0m\u001b[0my\u001b[0m\u001b[0;34m[\u001b[0m\u001b[0mi\u001b[0m\u001b[0;34m:\u001b[0m\u001b[0mi\u001b[0m\u001b[0;34m+\u001b[0m\u001b[0;36m2\u001b[0m\u001b[0;34m]\u001b[0m\u001b[0;34m\u001b[0m\u001b[0m\n\u001b[0m\u001b[1;32m     14\u001b[0m         \u001b[0mdot_prod\u001b[0m\u001b[0;34m=\u001b[0m\u001b[0mnp\u001b[0m\u001b[0;34m.\u001b[0m\u001b[0mdot\u001b[0m\u001b[0;34m(\u001b[0m\u001b[0mx_i\u001b[0m\u001b[0;34m,\u001b[0m\u001b[0my_i\u001b[0m\u001b[0;34m)\u001b[0m\u001b[0;34m\u001b[0m\u001b[0m\n\u001b[1;32m     15\u001b[0m         \u001b[0mx_norm\u001b[0m\u001b[0;34m=\u001b[0m\u001b[0mnp\u001b[0m\u001b[0;34m.\u001b[0m\u001b[0mlinalg\u001b[0m\u001b[0;34m.\u001b[0m\u001b[0mnorm\u001b[0m\u001b[0;34m(\u001b[0m\u001b[0mx_i\u001b[0m\u001b[0;34m)\u001b[0m\u001b[0;34m\u001b[0m\u001b[0m\n",
      "\u001b[0;32m<ipython-input-50-ba6097ff144c>\u001b[0m in \u001b[0;36mget_angle\u001b[0;34m(x, y)\u001b[0m\n\u001b[1;32m     11\u001b[0m         \u001b[0mx_i\u001b[0m\u001b[0;34m=\u001b[0m\u001b[0mx\u001b[0m\u001b[0;34m[\u001b[0m\u001b[0mi\u001b[0m\u001b[0;34m:\u001b[0m\u001b[0mi\u001b[0m\u001b[0;34m+\u001b[0m\u001b[0;36m2\u001b[0m\u001b[0;34m]\u001b[0m\u001b[0;34m\u001b[0m\u001b[0m\n\u001b[1;32m     12\u001b[0m         \u001b[0;32mimport\u001b[0m \u001b[0mpdb\u001b[0m\u001b[0;34m;\u001b[0m \u001b[0mpdb\u001b[0m\u001b[0;34m.\u001b[0m\u001b[0mset_trace\u001b[0m\u001b[0;34m(\u001b[0m\u001b[0;34m)\u001b[0m\u001b[0;34m\u001b[0m\u001b[0m\n\u001b[0;32m---> 13\u001b[0;31m         \u001b[0my_i\u001b[0m\u001b[0;34m=\u001b[0m\u001b[0my\u001b[0m\u001b[0;34m[\u001b[0m\u001b[0mi\u001b[0m\u001b[0;34m:\u001b[0m\u001b[0mi\u001b[0m\u001b[0;34m+\u001b[0m\u001b[0;36m2\u001b[0m\u001b[0;34m]\u001b[0m\u001b[0;34m\u001b[0m\u001b[0m\n\u001b[0m\u001b[1;32m     14\u001b[0m         \u001b[0mdot_prod\u001b[0m\u001b[0;34m=\u001b[0m\u001b[0mnp\u001b[0m\u001b[0;34m.\u001b[0m\u001b[0mdot\u001b[0m\u001b[0;34m(\u001b[0m\u001b[0mx_i\u001b[0m\u001b[0;34m,\u001b[0m\u001b[0my_i\u001b[0m\u001b[0;34m)\u001b[0m\u001b[0;34m\u001b[0m\u001b[0m\n\u001b[1;32m     15\u001b[0m         \u001b[0mx_norm\u001b[0m\u001b[0;34m=\u001b[0m\u001b[0mnp\u001b[0m\u001b[0;34m.\u001b[0m\u001b[0mlinalg\u001b[0m\u001b[0;34m.\u001b[0m\u001b[0mnorm\u001b[0m\u001b[0;34m(\u001b[0m\u001b[0mx_i\u001b[0m\u001b[0;34m)\u001b[0m\u001b[0;34m\u001b[0m\u001b[0m\n",
      "\u001b[0;32m~/anaconda3/envs/pytorch/lib/python3.6/bdb.py\u001b[0m in \u001b[0;36mtrace_dispatch\u001b[0;34m(self, frame, event, arg)\u001b[0m\n\u001b[1;32m     46\u001b[0m             \u001b[0;32mreturn\u001b[0m \u001b[0;31m# None\u001b[0m\u001b[0;34m\u001b[0m\u001b[0m\n\u001b[1;32m     47\u001b[0m         \u001b[0;32mif\u001b[0m \u001b[0mevent\u001b[0m \u001b[0;34m==\u001b[0m \u001b[0;34m'line'\u001b[0m\u001b[0;34m:\u001b[0m\u001b[0;34m\u001b[0m\u001b[0m\n\u001b[0;32m---> 48\u001b[0;31m             \u001b[0;32mreturn\u001b[0m \u001b[0mself\u001b[0m\u001b[0;34m.\u001b[0m\u001b[0mdispatch_line\u001b[0m\u001b[0;34m(\u001b[0m\u001b[0mframe\u001b[0m\u001b[0;34m)\u001b[0m\u001b[0;34m\u001b[0m\u001b[0m\n\u001b[0m\u001b[1;32m     49\u001b[0m         \u001b[0;32mif\u001b[0m \u001b[0mevent\u001b[0m \u001b[0;34m==\u001b[0m \u001b[0;34m'call'\u001b[0m\u001b[0;34m:\u001b[0m\u001b[0;34m\u001b[0m\u001b[0m\n\u001b[1;32m     50\u001b[0m             \u001b[0;32mreturn\u001b[0m \u001b[0mself\u001b[0m\u001b[0;34m.\u001b[0m\u001b[0mdispatch_call\u001b[0m\u001b[0;34m(\u001b[0m\u001b[0mframe\u001b[0m\u001b[0;34m,\u001b[0m \u001b[0marg\u001b[0m\u001b[0;34m)\u001b[0m\u001b[0;34m\u001b[0m\u001b[0m\n",
      "\u001b[0;32m~/anaconda3/envs/pytorch/lib/python3.6/bdb.py\u001b[0m in \u001b[0;36mdispatch_line\u001b[0;34m(self, frame)\u001b[0m\n\u001b[1;32m     65\u001b[0m         \u001b[0;32mif\u001b[0m \u001b[0mself\u001b[0m\u001b[0;34m.\u001b[0m\u001b[0mstop_here\u001b[0m\u001b[0;34m(\u001b[0m\u001b[0mframe\u001b[0m\u001b[0;34m)\u001b[0m \u001b[0;32mor\u001b[0m \u001b[0mself\u001b[0m\u001b[0;34m.\u001b[0m\u001b[0mbreak_here\u001b[0m\u001b[0;34m(\u001b[0m\u001b[0mframe\u001b[0m\u001b[0;34m)\u001b[0m\u001b[0;34m:\u001b[0m\u001b[0;34m\u001b[0m\u001b[0m\n\u001b[1;32m     66\u001b[0m             \u001b[0mself\u001b[0m\u001b[0;34m.\u001b[0m\u001b[0muser_line\u001b[0m\u001b[0;34m(\u001b[0m\u001b[0mframe\u001b[0m\u001b[0;34m)\u001b[0m\u001b[0;34m\u001b[0m\u001b[0m\n\u001b[0;32m---> 67\u001b[0;31m             \u001b[0;32mif\u001b[0m \u001b[0mself\u001b[0m\u001b[0;34m.\u001b[0m\u001b[0mquitting\u001b[0m\u001b[0;34m:\u001b[0m \u001b[0;32mraise\u001b[0m \u001b[0mBdbQuit\u001b[0m\u001b[0;34m\u001b[0m\u001b[0m\n\u001b[0m\u001b[1;32m     68\u001b[0m         \u001b[0;32mreturn\u001b[0m \u001b[0mself\u001b[0m\u001b[0;34m.\u001b[0m\u001b[0mtrace_dispatch\u001b[0m\u001b[0;34m\u001b[0m\u001b[0m\n\u001b[1;32m     69\u001b[0m \u001b[0;34m\u001b[0m\u001b[0m\n",
      "\u001b[0;31mBdbQuit\u001b[0m: "
     ]
    }
   ],
   "source": [
    "GT,estimate= test(model, test_loader)"
   ]
  },
  {
   "cell_type": "code",
   "execution_count": 47,
   "metadata": {},
   "outputs": [
    {
     "data": {
      "text/plain": [
       "array([  0.,  20.,  40.,  60.,  80., 100., 120., 140., 160., 180.])"
      ]
     },
     "execution_count": 47,
     "metadata": {},
     "output_type": "execute_result"
    }
   ],
   "source": [
    "GT"
   ]
  },
  {
   "cell_type": "code",
   "execution_count": 48,
   "metadata": {},
   "outputs": [
    {
     "data": {
      "text/plain": [
       "array([57.29578015, 43.02058716, 31.59463331, 12.80234605, 17.81357181,\n",
       "       23.80548705, 19.97375016, 11.75601838, 37.63575528, 40.65187064])"
      ]
     },
     "execution_count": 48,
     "metadata": {},
     "output_type": "execute_result"
    }
   ],
   "source": [
    "estimate"
   ]
  },
  {
   "cell_type": "code",
   "execution_count": null,
   "metadata": {},
   "outputs": [],
   "source": []
  }
 ],
 "metadata": {
  "kernelspec": {
   "display_name": "Python 3",
   "language": "python",
   "name": "python3"
  },
  "language_info": {
   "codemirror_mode": {
    "name": "ipython",
    "version": 3
   },
   "file_extension": ".py",
   "mimetype": "text/x-python",
   "name": "python",
   "nbconvert_exporter": "python",
   "pygments_lexer": "ipython3",
   "version": "3.6.4"
  },
  "latex_envs": {
   "LaTeX_envs_menu_present": true,
   "autocomplete": true,
   "bibliofile": "biblio.bib",
   "cite_by": "apalike",
   "current_citInitial": 1,
   "eqLabelWithNumbers": true,
   "eqNumInitial": 1,
   "hotkeys": {
    "equation": "Ctrl-E",
    "itemize": "Ctrl-I"
   },
   "labels_anchors": false,
   "latex_user_defs": false,
   "report_style_numbering": false,
   "user_envs_cfg": false
  },
  "varInspector": {
   "cols": {
    "lenName": 16,
    "lenType": 16,
    "lenVar": 40
   },
   "kernels_config": {
    "python": {
     "delete_cmd_postfix": "",
     "delete_cmd_prefix": "del ",
     "library": "var_list.py",
     "varRefreshCmd": "print(var_dic_list())"
    },
    "r": {
     "delete_cmd_postfix": ") ",
     "delete_cmd_prefix": "rm(",
     "library": "var_list.r",
     "varRefreshCmd": "cat(var_dic_list()) "
    }
   },
   "types_to_exclude": [
    "module",
    "function",
    "builtin_function_or_method",
    "instance",
    "_Feature"
   ],
   "window_display": false
  }
 },
 "nbformat": 4,
 "nbformat_minor": 2
}
