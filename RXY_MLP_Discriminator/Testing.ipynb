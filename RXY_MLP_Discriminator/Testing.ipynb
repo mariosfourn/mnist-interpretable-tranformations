{
 "cells": [
  {
   "cell_type": "code",
   "execution_count": 7,
   "metadata": {},
   "outputs": [],
   "source": [
    "from __future__ import print_function\n",
    "import os\n",
    "import sys\n",
    "import time\n",
    "\n",
    "import argparse\n",
    "import numpy as np\n",
    "import torch\n",
    "import torch.nn as nn\n",
    "import torch.nn.functional as F\n",
    "import torch.optim as optim\n",
    "import torchvision\n",
    "from itertools import cycle\n",
    "\n",
    "from matplotlib import pyplot as plt\n",
    "from scipy.ndimage.interpolation import rotate\n",
    "from torchvision import datasets, transforms\n",
    "import cv2"
   ]
  },
  {
   "cell_type": "code",
   "execution_count": 38,
   "metadata": {},
   "outputs": [],
   "source": [
    "from main import Net, round_even"
   ]
  },
  {
   "cell_type": "code",
   "execution_count": 48,
   "metadata": {},
   "outputs": [],
   "source": [
    "def transform(input,params,max_scaling=2):\n",
    "    \"\"\"\n",
    "    Args:\n",
    "        input: [N,c,h,w]\n",
    "        params: [N,3]\n",
    "    outputs:\n",
    "        outputs:[N,c,h,w]\n",
    "        \n",
    "    \"\"\"    \n",
    "    x_scale_pi=params[:,0]\n",
    "    y_scale_pi=params[:,1]\n",
    "    angles=params[:,2]\n",
    "    outputs=[]\n",
    "    for i,_ in enumerate(input):\n",
    "         #trasfrom scaling to real line\n",
    "        if x_scale_pi[i]>=np.pi/2:\n",
    "            x_scale=1+(x_scale_pi[i]-np.pi/2)/(np.pi/2)*(max_scaling-1)\n",
    "        else:\n",
    "            x_scale=1+(x_scale_pi[i]-np.pi/2)/(np.pi/2)/max_scaling\n",
    "\n",
    "        if y_scale_pi[i]>=np.pi/2:\n",
    "            y_scale=1+(y_scale_pi[i]-np.pi/2)/(np.pi/2)*(max_scaling-1)\n",
    "        else:\n",
    "            y_scale=1+(y_scale_pi[i]-np.pi/2)/(np.pi/2)/max_scaling\n",
    "\n",
    "        new_size=[round_even(28*y_scale),round_even(28*x_scale)]\n",
    "        assert (new_size[0]>=14  and new_size[1]>=14), (x_scale,x_scale_pi[i], y_scale,y_scale_pi[i])\n",
    "        # Resize image \n",
    "        #tranpose input image to [h,w,c]\n",
    "        channels=input.shape[1]\n",
    "        image=np.transpose(input[i],(1,2,0))\n",
    "        resized_image=cv2.resize(image,tuple(new_size[::-1]), interpolation = cv2.INTER_AREA)\n",
    "        #Expand axis if the image is single channel\n",
    "        if len(resized_image.shape)<3: resized_image= np.expand_dims(resized_image, axis=2)\n",
    "        #Pad with zeros\n",
    "        pos_diff = np.maximum(-np.asarray(resized_image.shape[:2]) + np.asarray([28,28]), 0)\n",
    "        paddings = ((pos_diff[0]//2, pos_diff[0] - (pos_diff[0]//2)),\n",
    "            (pos_diff[1]//2, pos_diff[1] - (pos_diff[1]//2)),(0,0))\n",
    "        padded_image = np.pad(resized_image, paddings,'constant')\n",
    "        # Now to crop\n",
    "        crop_diff = np.asarray(padded_image.shape[:2]) - np.asarray([28,28])\n",
    "        left_crop = crop_diff // 2\n",
    "        right_crop = crop_diff - left_crop\n",
    "        right_crop[right_crop==0] = -28\n",
    "        new_image = padded_image[left_crop[0]:-right_crop[0], left_crop[1]:-right_crop[1],:]\n",
    "\n",
    "        assert new_image.shape==(28,28,channels), new_image.shape\n",
    "        new_image=new_image.transpose(2,0,1) #[c,h,w]\n",
    "        ##Rotate\n",
    "        \n",
    "        new_images=rotate(new_image, 180*angles[i]/np.pi, axes=(1,2), reshape=False)\n",
    "        outputs.append(new_image) #[c,h,w]\n",
    "    \n",
    "    return np.stack(outputs,0)"
   ]
  },
  {
   "cell_type": "code",
   "execution_count": 60,
   "metadata": {},
   "outputs": [],
   "source": [
    "device='cpu'\n",
    "model = Net(28,28,device).to(device)\n",
    "model.load_state_dict(torch.load('./model/model.pt'))\n",
    "test_loader = torch.utils.data.DataLoader(\n",
    "    datasets.MNIST('../data', train=False, transform=transforms.Compose([\n",
    "                       transforms.ToTensor()\n",
    "                   ])),\n",
    "    batch_size=10, shuffle=True, **{})"
   ]
  },
  {
   "cell_type": "code",
   "execution_count": 61,
   "metadata": {},
   "outputs": [],
   "source": [
    "def final_test(model,device,test_loader):\n",
    "    #parameter vector only of x_scaling \n",
    "    model.eval()\n",
    "    with torch.no_grad():\n",
    "        for data, target in test_loader:\n",
    "            steps=20\n",
    "            # Reshape data: apply multiple angles to the same minibatch, hence\n",
    "            # repeat\n",
    "            data = data.view(data.size(0), -1)\n",
    "            data = data[:7]\n",
    "            data = data.repeat(1,steps).view(data.size(0)*steps,1,28,28)\n",
    "            scale= np.linspace(0, np.pi, num=steps).reshape(-1,1)\n",
    "            angles = np.linspace(0, 2*np.pi, num=steps).reshape(-1,1)\n",
    "\n",
    "            #params for only x-scaling\n",
    "            zeros=np.zeros_like(scale)\n",
    "            original=np.ones_like(scale)*np.pi/2\n",
    "            params_x=np.hstack((scale,original,zeros))\n",
    "            params_y=np.hstack((original,scale,zeros))\n",
    "            params_r=np.hstack((original,original,angles))\n",
    "            params_xy=np.hstack((scale,scale,zeros))\n",
    "            params_rx=np.hstack((scale,original,angles))\n",
    "            params_ry=np.hstack((original,scale,angles))\n",
    "            params_rxy=np.hstack((scale,scale,angles))\n",
    "            params=np.vstack((params_x,params_y,params_r,params_xy,params_rx,params_ry,params_rxy))\n",
    "            targets=torch.from_numpy(transform(data.numpy(),params)).to(device)\n",
    "            targets = targets.view(targets.size(0), -1)\n",
    "            # Forward pass\n",
    "            output= model(targets)\n",
    "            break\n",
    "        output = output.cpu()\n",
    "        #Plot images\n",
    "    return params*180/np.pi, output*180/np.pi\n",
    "        #save_images(output, args.epochs,'final',nrow=20)"
   ]
  },
  {
   "cell_type": "code",
   "execution_count": 62,
   "metadata": {},
   "outputs": [],
   "source": [
    "GT, estimate= final_test(model, device, test_loader)"
   ]
  },
  {
   "cell_type": "code",
   "execution_count": 63,
   "metadata": {},
   "outputs": [
    {
     "data": {
      "text/plain": [
       "array([[  0.        ,  90.        ,   0.        ],\n",
       "       [  9.47368421,  90.        ,   0.        ],\n",
       "       [ 18.94736842,  90.        ,   0.        ],\n",
       "       [ 28.42105263,  90.        ,   0.        ],\n",
       "       [ 37.89473684,  90.        ,   0.        ],\n",
       "       [ 47.36842105,  90.        ,   0.        ],\n",
       "       [ 56.84210526,  90.        ,   0.        ],\n",
       "       [ 66.31578947,  90.        ,   0.        ],\n",
       "       [ 75.78947368,  90.        ,   0.        ],\n",
       "       [ 85.26315789,  90.        ,   0.        ],\n",
       "       [ 94.73684211,  90.        ,   0.        ],\n",
       "       [104.21052632,  90.        ,   0.        ],\n",
       "       [113.68421053,  90.        ,   0.        ],\n",
       "       [123.15789474,  90.        ,   0.        ],\n",
       "       [132.63157895,  90.        ,   0.        ],\n",
       "       [142.10526316,  90.        ,   0.        ],\n",
       "       [151.57894737,  90.        ,   0.        ],\n",
       "       [161.05263158,  90.        ,   0.        ],\n",
       "       [170.52631579,  90.        ,   0.        ],\n",
       "       [180.        ,  90.        ,   0.        ]])"
      ]
     },
     "execution_count": 63,
     "metadata": {},
     "output_type": "execute_result"
    }
   ],
   "source": [
    "GT[:20]"
   ]
  },
  {
   "cell_type": "code",
   "execution_count": 64,
   "metadata": {},
   "outputs": [
    {
     "data": {
      "text/plain": [
       "tensor([[  6.6466,  27.8787,  35.7837],\n",
       "        [  9.6534,  29.3801,  43.4992],\n",
       "        [  9.6534,  29.3801,  43.4992],\n",
       "        [ 11.1533,  30.2684,  46.7623],\n",
       "        [ 13.4299,  30.1992,  49.8035],\n",
       "        [ 19.2495,  30.1858,  49.2094],\n",
       "        [ 19.2495,  30.1858,  49.2094],\n",
       "        [ 23.9817,  32.2018,  47.4191],\n",
       "        [ 27.0041,  33.0979,  47.7654],\n",
       "        [ 29.1977,  34.0864,  48.3663],\n",
       "        [ 32.6168,  34.0565,  48.5922],\n",
       "        [ 34.5157,  34.0176,  49.5879],\n",
       "        [ 41.5782,  30.5034,  52.1273],\n",
       "        [ 42.4385,  29.6445,  53.6663],\n",
       "        [ 43.9458,  29.1980,  54.1406],\n",
       "        [ 44.8008,  29.4274,  53.0790],\n",
       "        [ 45.5390,  31.6194,  53.7200],\n",
       "        [ 45.2061,  33.9724,  52.8129],\n",
       "        [ 46.3583,  35.5176,  53.4751],\n",
       "        [ 47.2754,  36.9345,  54.0441]])"
      ]
     },
     "execution_count": 64,
     "metadata": {},
     "output_type": "execute_result"
    }
   ],
   "source": [
    "estimate[:20]"
   ]
  },
  {
   "cell_type": "code",
   "execution_count": null,
   "metadata": {},
   "outputs": [],
   "source": []
  }
 ],
 "metadata": {
  "kernelspec": {
   "display_name": "Python 3",
   "language": "python",
   "name": "python3"
  },
  "language_info": {
   "codemirror_mode": {
    "name": "ipython",
    "version": 3
   },
   "file_extension": ".py",
   "mimetype": "text/x-python",
   "name": "python",
   "nbconvert_exporter": "python",
   "pygments_lexer": "ipython3",
   "version": "3.6.4"
  },
  "latex_envs": {
   "LaTeX_envs_menu_present": true,
   "autocomplete": true,
   "bibliofile": "biblio.bib",
   "cite_by": "apalike",
   "current_citInitial": 1,
   "eqLabelWithNumbers": true,
   "eqNumInitial": 1,
   "hotkeys": {
    "equation": "Ctrl-E",
    "itemize": "Ctrl-I"
   },
   "labels_anchors": false,
   "latex_user_defs": false,
   "report_style_numbering": false,
   "user_envs_cfg": false
  },
  "varInspector": {
   "cols": {
    "lenName": 16,
    "lenType": 16,
    "lenVar": 40
   },
   "kernels_config": {
    "python": {
     "delete_cmd_postfix": "",
     "delete_cmd_prefix": "del ",
     "library": "var_list.py",
     "varRefreshCmd": "print(var_dic_list())"
    },
    "r": {
     "delete_cmd_postfix": ") ",
     "delete_cmd_prefix": "rm(",
     "library": "var_list.r",
     "varRefreshCmd": "cat(var_dic_list()) "
    }
   },
   "types_to_exclude": [
    "module",
    "function",
    "builtin_function_or_method",
    "instance",
    "_Feature"
   ],
   "window_display": false
  }
 },
 "nbformat": 4,
 "nbformat_minor": 2
}
