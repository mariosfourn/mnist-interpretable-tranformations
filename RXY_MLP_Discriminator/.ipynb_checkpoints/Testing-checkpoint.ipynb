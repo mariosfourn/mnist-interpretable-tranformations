{
 "cells": [
  {
   "cell_type": "code",
   "execution_count": 7,
   "metadata": {},
   "outputs": [],
   "source": [
    "from __future__ import print_function\n",
    "import os\n",
    "import sys\n",
    "import time\n",
    "\n",
    "import argparse\n",
    "import numpy as np\n",
    "import torch\n",
    "import torch.nn as nn\n",
    "import torch.nn.functional as F\n",
    "import torch.optim as optim\n",
    "import torchvision\n",
    "from itertools import cycle\n",
    "\n",
    "from matplotlib import pyplot as plt\n",
    "from scipy.ndimage.interpolation import rotate\n",
    "from torchvision import datasets, transforms\n",
    "import cv2"
   ]
  },
  {
   "cell_type": "code",
   "execution_count": 8,
   "metadata": {},
   "outputs": [],
   "source": [
    "from main import Net"
   ]
  },
  {
   "cell_type": "code",
   "execution_count": 9,
   "metadata": {},
   "outputs": [],
   "source": [
    "def transform(input,params):\n",
    "    \"\"\"\n",
    "    Args:\n",
    "        input: [N,c,h,w]\n",
    "        params: [N,3]\n",
    "    outputs:\n",
    "        outputs:[N,c,h,w]\n",
    "        \n",
    "    \"\"\"    \n",
    "    x_scale_pi=params[:,0]\n",
    "    y_scale_pi=params[:,1]\n",
    "    angels=params[:,2]\n",
    "    outputs=[]\n",
    "    for i,_ in enumerate(input):\n",
    "         #trasfrom scaling to real line\n",
    "        if x_scale_pi[i]>=np.pi/2:\n",
    "            x_scale=1+(x_scale_pi[i]-np.pi/2)/(np.pi/2)*(max_scaling-1)\n",
    "        else:\n",
    "            x_scale=1+(x_scale_pi[i]-np.pi/2)/(np.pi/2)/max_scaling\n",
    "\n",
    "        if y_scale_pi[i]>=np.pi/2:\n",
    "            y_scale=1+(y_scale_pi[i]-np.pi/2)/(np.pi/2)*(max_scaling-1)\n",
    "        else:\n",
    "            y_scale=1+(y_scale_pi[i]-np.pi/2)/(np.pi/2)/max_scaling\n",
    "\n",
    "        x_scale_real[i]=x_scale\n",
    "        y_scale_real[i]=y_scale\n",
    "        new_size=[round_even(28*y_scale),round_even(28*x_scale)]\n",
    "        assert (new_size[0]>=14  and new_size[1]>=14), (x_scale,x_scale_pi[i], y_scale,y_scale_pi[i])\n",
    "        # Resize image \n",
    "        #tranpose input image to [h,w,c]\n",
    "        channels=input.shape[1]\n",
    "        image=np.transpose(input[i],(1,2,0))\n",
    "        resized_image=cv2.resize(image,tuple(new_size[::-1]), interpolation = cv2.INTER_AREA)\n",
    "        #Expand axis if the image is single channel\n",
    "        if len(resized_image.shape)<3: resized_image= np.expand_dims(resized_image, axis=2)\n",
    "        #Pad with zeros\n",
    "        pos_diff = np.maximum(-np.asarray(resized_image.shape[:2]) + np.asarray([28,28]), 0)\n",
    "        paddings = ((pos_diff[0]//2, pos_diff[0] - (pos_diff[0]//2)),\n",
    "            (pos_diff[1]//2, pos_diff[1] - (pos_diff[1]//2)),(0,0))\n",
    "        padded_image = np.pad(resized_image, paddings,'constant')\n",
    "        # Now to crop\n",
    "        crop_diff = np.asarray(padded_image.shape[:2]) - np.asarray([28,28])\n",
    "        left_crop = crop_diff // 2\n",
    "        right_crop = crop_diff - left_crop\n",
    "        right_crop[right_crop==0] = -28\n",
    "        new_image = padded_image[left_crop[0]:-right_crop[0], left_crop[1]:-right_crop[1],:]\n",
    "\n",
    "        assert new_image.shape==(28,28,channels), new_image.shape\n",
    "        new_image=new_image.transpose(2,0,1) #[c,h,w]\n",
    "        ##Rotate\n",
    "        \n",
    "        new_images=rotate(new_image, 180*angles[i]/np.pi, axes=(1,2), reshape=False)\n",
    "        outputs.append(new_image) #[c,h,w]\n",
    "    \n",
    "    return np.stack(outputs,0)"
   ]
  },
  {
   "cell_type": "code",
   "execution_count": 14,
   "metadata": {},
   "outputs": [],
   "source": [
    "device='cpu'\n",
    "model = Net(28,28,device).to(device)\n",
    "model.load_state_dict(torch.load('./model/model.pt'))\n",
    "test_loader = torch.utils.data.DataLoader(\n",
    "    datasets.MNIST('../data', train=False, transform=transforms.Compose([\n",
    "                       transforms.ToTensor()\n",
    "                   ])),\n",
    "    batch_size=10, shuffle=True, **{})"
   ]
  },
  {
   "cell_type": "code",
   "execution_count": 22,
   "metadata": {},
   "outputs": [],
   "source": [
    "def final_test(model,device,test_loader):\n",
    "    #parameter vector only of x_scaling \n",
    "    model.eval()\n",
    "    with torch.no_grad():\n",
    "        for data, target in test_loader:\n",
    "            steps=20\n",
    "            # Reshape data: apply multiple angles to the same minibatch, hence\n",
    "            # repeat\n",
    "            data = data.view(data.size(0), -1)\n",
    "            data = data[:7,:]\n",
    "            data = data.repeat(1,steps).view(data.size(0)*steps,-1)\n",
    "            scale= np.linspace(0, np.pi, num=steps).reshape(-1,1)\n",
    "            angles = np.linspace(0, 2*np.pi, num=steps).reshape(-1,1)\n",
    "\n",
    "            #params for only x-scaling\n",
    "            zeros=np.zeros_like(scale)\n",
    "            original=np.ones_like(scale)*np.pi/2\n",
    "            params_x=np.stack((scale,original,zeros),1)\n",
    "            params_y=np.stack((original,scale,zeros),1)\n",
    "            params_r=np.stack((original,original,angles),1)\n",
    "            params_xy=np.stack((scale,scale,zeros),1)\n",
    "            params_rx=np.stack((scale,original,angles),1)\n",
    "            params_ry=np.stack((original,scale,angles),1)\n",
    "            params_rxy=np.stack((scale,scale,angles),1)\n",
    "            params=np.stack((params_x,params_y,params_r,params_xy,params_rx,params_ry,params_rxy),0)\n",
    "            \n",
    "            targets=torch.from_numpy(transform(data.numpy(),params)).to(device)\n",
    "            targets = targets.view(targets.size(0), -1)\n",
    "            # Forward pass\n",
    "            output= model(targets)\n",
    "            break\n",
    "        output = output.cpu()\n",
    "        #Plot images\n",
    "    return params*180/np.pi, output*180/np.pi\n",
    "        #save_images(output, args.epochs,'final',nrow=20)"
   ]
  },
  {
   "cell_type": "code",
   "execution_count": 23,
   "metadata": {},
   "outputs": [
    {
     "ename": "NameError",
     "evalue": "name 'x_scale_pi' is not defined",
     "output_type": "error",
     "traceback": [
      "\u001b[0;31m---------------------------------------------------------------------------\u001b[0m",
      "\u001b[0;31mNameError\u001b[0m                                 Traceback (most recent call last)",
      "\u001b[0;32m<ipython-input-23-fc8f5138c3e4>\u001b[0m in \u001b[0;36m<module>\u001b[0;34m()\u001b[0m\n\u001b[0;32m----> 1\u001b[0;31m \u001b[0mGT\u001b[0m\u001b[0;34m,\u001b[0m \u001b[0mesimate\u001b[0m\u001b[0;34m=\u001b[0m \u001b[0mfinal_test\u001b[0m\u001b[0;34m(\u001b[0m\u001b[0mmodel\u001b[0m\u001b[0;34m,\u001b[0m \u001b[0mdevice\u001b[0m\u001b[0;34m,\u001b[0m \u001b[0mtest_loader\u001b[0m\u001b[0;34m)\u001b[0m\u001b[0;34m\u001b[0m\u001b[0m\n\u001b[0m",
      "\u001b[0;32m<ipython-input-22-807e47d7a5cd>\u001b[0m in \u001b[0;36mfinal_test\u001b[0;34m(model, device, test_loader)\u001b[0m\n\u001b[1;32m     25\u001b[0m             \u001b[0mparams\u001b[0m\u001b[0;34m=\u001b[0m\u001b[0mnp\u001b[0m\u001b[0;34m.\u001b[0m\u001b[0mstack\u001b[0m\u001b[0;34m(\u001b[0m\u001b[0;34m(\u001b[0m\u001b[0mparams_x\u001b[0m\u001b[0;34m,\u001b[0m\u001b[0mparams_y\u001b[0m\u001b[0;34m,\u001b[0m\u001b[0mparams_r\u001b[0m\u001b[0;34m,\u001b[0m\u001b[0mparams_xy\u001b[0m\u001b[0;34m,\u001b[0m\u001b[0mparams_rx\u001b[0m\u001b[0;34m,\u001b[0m\u001b[0mparams_ry\u001b[0m\u001b[0;34m,\u001b[0m\u001b[0mparams_rxy\u001b[0m\u001b[0;34m)\u001b[0m\u001b[0;34m,\u001b[0m\u001b[0;36m0\u001b[0m\u001b[0;34m)\u001b[0m\u001b[0;34m\u001b[0m\u001b[0m\n\u001b[1;32m     26\u001b[0m \u001b[0;34m\u001b[0m\u001b[0m\n\u001b[0;32m---> 27\u001b[0;31m             \u001b[0mtargets\u001b[0m\u001b[0;34m=\u001b[0m\u001b[0mtorch\u001b[0m\u001b[0;34m.\u001b[0m\u001b[0mfrom_numpy\u001b[0m\u001b[0;34m(\u001b[0m\u001b[0mtransform\u001b[0m\u001b[0;34m(\u001b[0m\u001b[0mdata\u001b[0m\u001b[0;34m.\u001b[0m\u001b[0mnumpy\u001b[0m\u001b[0;34m(\u001b[0m\u001b[0;34m)\u001b[0m\u001b[0;34m,\u001b[0m\u001b[0mparams\u001b[0m\u001b[0;34m)\u001b[0m\u001b[0;34m)\u001b[0m\u001b[0;34m.\u001b[0m\u001b[0mto\u001b[0m\u001b[0;34m(\u001b[0m\u001b[0mdevice\u001b[0m\u001b[0;34m)\u001b[0m\u001b[0;34m\u001b[0m\u001b[0m\n\u001b[0m\u001b[1;32m     28\u001b[0m             \u001b[0mtargets\u001b[0m \u001b[0;34m=\u001b[0m \u001b[0mtargets\u001b[0m\u001b[0;34m.\u001b[0m\u001b[0mview\u001b[0m\u001b[0;34m(\u001b[0m\u001b[0mtargets\u001b[0m\u001b[0;34m.\u001b[0m\u001b[0msize\u001b[0m\u001b[0;34m(\u001b[0m\u001b[0;36m0\u001b[0m\u001b[0;34m)\u001b[0m\u001b[0;34m,\u001b[0m \u001b[0;34m-\u001b[0m\u001b[0;36m1\u001b[0m\u001b[0;34m)\u001b[0m\u001b[0;34m\u001b[0m\u001b[0m\n\u001b[1;32m     29\u001b[0m             \u001b[0;31m# Forward pass\u001b[0m\u001b[0;34m\u001b[0m\u001b[0;34m\u001b[0m\u001b[0m\n",
      "\u001b[0;32m<ipython-input-9-79d25578575c>\u001b[0m in \u001b[0;36mtransform\u001b[0;34m(input, params)\u001b[0m\n\u001b[1;32m     14\u001b[0m     \u001b[0;32mfor\u001b[0m \u001b[0mi\u001b[0m\u001b[0;34m,\u001b[0m\u001b[0m_\u001b[0m \u001b[0;32min\u001b[0m \u001b[0menumerate\u001b[0m\u001b[0;34m(\u001b[0m\u001b[0minput\u001b[0m\u001b[0;34m)\u001b[0m\u001b[0;34m:\u001b[0m\u001b[0;34m\u001b[0m\u001b[0m\n\u001b[1;32m     15\u001b[0m          \u001b[0;31m#trasfrom scaling to real line\u001b[0m\u001b[0;34m\u001b[0m\u001b[0;34m\u001b[0m\u001b[0m\n\u001b[0;32m---> 16\u001b[0;31m         \u001b[0;32mif\u001b[0m \u001b[0mx_scale_pi\u001b[0m\u001b[0;34m[\u001b[0m\u001b[0mi\u001b[0m\u001b[0;34m]\u001b[0m\u001b[0;34m>=\u001b[0m\u001b[0mnp\u001b[0m\u001b[0;34m.\u001b[0m\u001b[0mpi\u001b[0m\u001b[0;34m/\u001b[0m\u001b[0;36m2\u001b[0m\u001b[0;34m:\u001b[0m\u001b[0;34m\u001b[0m\u001b[0m\n\u001b[0m\u001b[1;32m     17\u001b[0m             \u001b[0mx_scale\u001b[0m\u001b[0;34m=\u001b[0m\u001b[0;36m1\u001b[0m\u001b[0;34m+\u001b[0m\u001b[0;34m(\u001b[0m\u001b[0mx_scale_pi\u001b[0m\u001b[0;34m[\u001b[0m\u001b[0mi\u001b[0m\u001b[0;34m]\u001b[0m\u001b[0;34m-\u001b[0m\u001b[0mnp\u001b[0m\u001b[0;34m.\u001b[0m\u001b[0mpi\u001b[0m\u001b[0;34m/\u001b[0m\u001b[0;36m2\u001b[0m\u001b[0;34m)\u001b[0m\u001b[0;34m/\u001b[0m\u001b[0;34m(\u001b[0m\u001b[0mnp\u001b[0m\u001b[0;34m.\u001b[0m\u001b[0mpi\u001b[0m\u001b[0;34m/\u001b[0m\u001b[0;36m2\u001b[0m\u001b[0;34m)\u001b[0m\u001b[0;34m*\u001b[0m\u001b[0;34m(\u001b[0m\u001b[0mmax_scaling\u001b[0m\u001b[0;34m-\u001b[0m\u001b[0;36m1\u001b[0m\u001b[0;34m)\u001b[0m\u001b[0;34m\u001b[0m\u001b[0m\n\u001b[1;32m     18\u001b[0m         \u001b[0;32melse\u001b[0m\u001b[0;34m:\u001b[0m\u001b[0;34m\u001b[0m\u001b[0m\n",
      "\u001b[0;31mNameError\u001b[0m: name 'x_scale_pi' is not defined"
     ]
    }
   ],
   "source": [
    "GT, esimate= final_test(model, device, test_loader)"
   ]
  },
  {
   "cell_type": "code",
   "execution_count": null,
   "metadata": {},
   "outputs": [],
   "source": []
  }
 ],
 "metadata": {
  "kernelspec": {
   "display_name": "Python 3",
   "language": "python",
   "name": "python3"
  },
  "language_info": {
   "codemirror_mode": {
    "name": "ipython",
    "version": 3
   },
   "file_extension": ".py",
   "mimetype": "text/x-python",
   "name": "python",
   "nbconvert_exporter": "python",
   "pygments_lexer": "ipython3",
   "version": "3.6.4"
  },
  "latex_envs": {
   "LaTeX_envs_menu_present": true,
   "autocomplete": true,
   "bibliofile": "biblio.bib",
   "cite_by": "apalike",
   "current_citInitial": 1,
   "eqLabelWithNumbers": true,
   "eqNumInitial": 1,
   "hotkeys": {
    "equation": "Ctrl-E",
    "itemize": "Ctrl-I"
   },
   "labels_anchors": false,
   "latex_user_defs": false,
   "report_style_numbering": false,
   "user_envs_cfg": false
  },
  "varInspector": {
   "cols": {
    "lenName": 16,
    "lenType": 16,
    "lenVar": 40
   },
   "kernels_config": {
    "python": {
     "delete_cmd_postfix": "",
     "delete_cmd_prefix": "del ",
     "library": "var_list.py",
     "varRefreshCmd": "print(var_dic_list())"
    },
    "r": {
     "delete_cmd_postfix": ") ",
     "delete_cmd_prefix": "rm(",
     "library": "var_list.r",
     "varRefreshCmd": "cat(var_dic_list()) "
    }
   },
   "types_to_exclude": [
    "module",
    "function",
    "builtin_function_or_method",
    "instance",
    "_Feature"
   ],
   "window_display": false
  }
 },
 "nbformat": 4,
 "nbformat_minor": 2
}
